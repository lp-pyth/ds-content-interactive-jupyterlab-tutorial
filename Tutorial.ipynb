{
 "cells": [
  {
   "cell_type": "markdown",
   "metadata": {},
   "source": [
    "![rmotr](https://user-images.githubusercontent.com/7065401/52071918-bda15380-2562-11e9-828c-7f95297e4a82.png)\n",
    "<hr style=\"margin-bottom: 40px;\">\n",
    "\n",
    "<img src=\"https://user-images.githubusercontent.com/7065401/55025843-7d99a280-4fe0-11e9-938a-4879d95c4130.png\"\n",
    "    style=\"width:150px; float: right; margin: 0 40px 40px 40px;\"></img>\n",
    "\n",
    "# Interactive Notebooks Tutorial\n",
    "\n",
    "Welcome to Notebooks.ai ❤️, a fully online 🤖, cloud-based ☁️ Data Science environment. All your work, analysis and datasets organized in the same place 🙌.\n",
    "\n",
    "![purple-divider](https://user-images.githubusercontent.com/7065401/52071927-c1cd7100-2562-11e9-908a-dde91ba14e59.png)"
   ]
  },
  {
   "cell_type": "markdown",
   "metadata": {},
   "source": [
    "### Objective of this tutorial:\n",
    "\n",
    "> **Help you get started with Notebooks.ai for Data Science and Python programming.**\n",
    "\n",
    "_Need help? Create an [issue](https://github.com/notebooks-ai/notebooks-help)._\n",
    "\n",
    "![green-divider](https://user-images.githubusercontent.com/7065401/52071924-c003ad80-2562-11e9-8297-1c6595f8a7ff.png)\n",
    "\n",
    "## Jupyter Notebooks\n",
    "\n",
    "This document that you're currently reading is a \"Jupyter Notebook\", and you've probably heard about it before. It's like a text document, but you can run code on it! It can also display inline graphs, pull data from Databases or show excel spreadsheets live! Isn't it amazing? 😄 \n",
    "\n",
    "**Mildly interesting fact of the day:**\n",
    "\n",
    "> _Jupyter is a nod to 3 languages: Julia, Python, and R._ Source [@jakevdp](https://twitter.com/jakevdp/status/1033071052652302336).\n",
    "\n",
    "This is a really quick tutorial on how to get started with Jupyter notebooks (and lab). It shouldn't take more than 10 minutes and you'll be writing Python code right away.\n",
    "\n",
    "### Part 1: everything is a _cell_\n",
    "\n",
    "Jupyter Notebooks are organized as a set of _\"cells\"_. Each cell can contain different types of content: like Python code (or R, Julia, etc), images or even human readable text (markdown), like the one you're currently reading.\n",
    "\n",
    "I've left a couple of empty cells below for you to see them:"
   ]
  },
  {
   "cell_type": "code",
   "execution_count": null,
   "metadata": {},
   "outputs": [],
   "source": []
  },
  {
   "cell_type": "code",
   "execution_count": null,
   "metadata": {},
   "outputs": [],
   "source": []
  },
  {
   "cell_type": "code",
   "execution_count": null,
   "metadata": {},
   "outputs": [],
   "source": []
  },
  {
   "cell_type": "markdown",
   "metadata": {},
   "source": [
    "This is another cell containing Markdown (human readable) code. And below, another empty cell:"
   ]
  },
  {
   "cell_type": "code",
   "execution_count": null,
   "metadata": {},
   "outputs": [],
   "source": []
  },
  {
   "cell_type": "markdown",
   "metadata": {},
   "source": [
    "You can edit these cells just by double clicking on them. Try editing the following cell:"
   ]
  },
  {
   "cell_type": "markdown",
   "metadata": {},
   "source": [
    "**👉 Double click on me 👈**"
   ]
  },
  {
   "cell_type": "markdown",
   "metadata": {},
   "source": [
    "When you double click the cell, it should open an \"edit mode\", and you should see something similar to:\n",
    "\n",
    "![image](images/_1.png)"
   ]
  },
  {
   "cell_type": "markdown",
   "metadata": {},
   "source": [
    "If you're seeing those asterisks, it's because you've correctly entered \"Edit Mode\". Once you've made the changes, you have to \"execute\", or \"run\" the cell to reflect the changes. To do that just click on the little _play_ button on the top menu bar:\n",
    "\n",
    "![image](images/_2.png)"
   ]
  },
  {
   "cell_type": "markdown",
   "metadata": {},
   "source": [
    "Jupyter notebooks are optimized for an efficient workflow. There are many keyboard shortcuts that will let you interact with your documents, run code and make other changes; mastering these shortcuts will speed up your work. For example, there are two shortcuts to execute a cell:\n",
    "\n",
    "1. `shift + return`: Run cell and advance to the next one.\n",
    "2. `ctrl  + return`: Run the cell but don't change focus.\n",
    "\n",
    "\n",
    "Try them with the following cell:"
   ]
  },
  {
   "cell_type": "code",
   "execution_count": null,
   "metadata": {},
   "outputs": [],
   "source": [
    "2 + 2"
   ]
  },
  {
   "cell_type": "markdown",
   "metadata": {},
   "source": [
    "You can try executing these cells as many times as you want, it won't break anything"
   ]
  },
  {
   "cell_type": "markdown",
   "metadata": {},
   "source": [
    "#### `ctrl + Return` effect:\n",
    "\n",
    "As you can see in the following animation, the code is correctly executed (it returns 4) and the focus (the blue line at the left side of the cell) stays in the same cell.\n",
    "\n",
    "![ctrl+enter effect](images/_3.gif)\n",
    "\n",
    "Now compare it to the next shortcut, `shift + return`:\n",
    "\n",
    "#### `shift + Return` effect:\n",
    "\n",
    "![shift+enter effect](images/_4.gif)\n",
    "\n",
    "As you can see, every time I execute code the focus changes to the cell below."
   ]
  },
  {
   "cell_type": "markdown",
   "metadata": {},
   "source": [
    "![green-divider](https://user-images.githubusercontent.com/7065401/52071924-c003ad80-2562-11e9-8297-1c6595f8a7ff.png)"
   ]
  },
  {
   "cell_type": "markdown",
   "metadata": {},
   "source": [
    "## Part 2: Working with code\n",
    "\n",
    "Jupyter notebooks have amazing features to include text and images and create beautiful, human readable documents as you've just seen. But their main benefit is working with code. Now we're going to import a few libraries and start experimenting with Python code. We've already done the simple `2 + 2` before, so let's do something a little bit more interesting. First, we need to import `numpy` and `matplotlib`:"
   ]
  },
  {
   "cell_type": "code",
   "execution_count": null,
   "metadata": {},
   "outputs": [],
   "source": [
    "import numpy as np\n",
    "import matplotlib.pyplot as plt\n",
    "%matplotlib inline"
   ]
  },
  {
   "cell_type": "markdown",
   "metadata": {},
   "source": [
    "Notebooks.ai include all the most popular Data Science and Deep Learning libraries already installed. And even if there's one missing, you can always install it in your own environment (more on that later). We've just imported these two libraries:\n",
    "* `numpy` the most popular Python library for array manipulation and numeric computing\n",
    "* `matplotlib` the most popular visualization library in the Python ecosystem.\n",
    "\n",
    "Let's now execute a few lines of code and generate some plots:"
   ]
  },
  {
   "cell_type": "code",
   "execution_count": null,
   "metadata": {},
   "outputs": [],
   "source": [
    "x = np.linspace(0, 10, 500)\n",
    "y = np.cumsum(np.random.randn(500, 6), 0)"
   ]
  },
  {
   "cell_type": "code",
   "execution_count": null,
   "metadata": {},
   "outputs": [],
   "source": [
    "plt.figure(figsize=(12, 7))\n",
    "plt.plot(x, y)\n",
    "plt.legend('ABCDEF', ncol=2, loc='upper left')"
   ]
  },
  {
   "cell_type": "markdown",
   "metadata": {},
   "source": [
    "But what is that 😱? Just random generated datapoints, but you can clearly see how simple is to do numeric processing and plotting with Notebooks.ai."
   ]
  },
  {
   "cell_type": "markdown",
   "metadata": {},
   "source": [
    "![green-divider](https://user-images.githubusercontent.com/7065401/52071924-c003ad80-2562-11e9-8297-1c6595f8a7ff.png)\n",
    "\n",
    "## Part 3: Interacting with data\n",
    "\n",
    "Notebooks.ai and Jupyter Lab make it really simple to intereact with files in your local storage. These files are securely stored in the cloud and you can access them from anywhere in the world.\n",
    "\n",
    "To show you the full potential of Notebooks.ai, we're going to pull cryptocurrencies prices from a public API and download them as Excel files, pretty fancy 😎. I need to import two libraries first: `requests` (to pull data from the web) and `pandas` to process it."
   ]
  },
  {
   "cell_type": "code",
   "execution_count": 1,
   "metadata": {
    "ExecuteTime": {
     "end_time": "2021-03-02T08:03:49.624262Z",
     "start_time": "2021-03-02T08:03:49.212135Z"
    }
   },
   "outputs": [],
   "source": [
    "import requests\n",
    "import pandas as pd"
   ]
  },
  {
   "cell_type": "markdown",
   "metadata": {},
   "source": [
    "I have a predefined function that simplifies the process of importing data from [Cryptowatch](https://cryptowat.ch) (for reference, check [their docs](https://cryptowat.ch/docs/api#ohlc))."
   ]
  },
  {
   "cell_type": "code",
   "execution_count": 2,
   "metadata": {
    "ExecuteTime": {
     "end_time": "2021-03-02T08:03:51.481535Z",
     "start_time": "2021-03-02T08:03:51.467571Z"
    }
   },
   "outputs": [],
   "source": [
    "def get_historic_price(symbol, exchange='bitfinex', after='2018-09-01'):\n",
    "    url = 'https://api.cryptowat.ch/markets/{exchange}/{symbol}usd/ohlc'.format(\n",
    "        symbol=symbol, exchange=exchange)\n",
    "    resp = requests.get(url, params={\n",
    "        'periods': '3600',\n",
    "        'after': str(int(pd.Timestamp(after).timestamp()))\n",
    "    })\n",
    "    resp.raise_for_status()\n",
    "    data = resp.json()\n",
    "    df = pd.DataFrame(data['result']['3600'], columns=[\n",
    "        'CloseTime', 'OpenPrice', 'HighPrice', 'LowPrice', 'ClosePrice', 'Volume', 'NA'\n",
    "    ])\n",
    "    df['CloseTime'] = pd.to_datetime(df['CloseTime'], unit='s')\n",
    "    df.set_index('CloseTime', inplace=True)\n",
    "    return df"
   ]
  },
  {
   "cell_type": "markdown",
   "metadata": {},
   "source": [
    "I will now pull data from Bitcoin and Ether, two of the most popular cryptocurrencies, for the last 7 days:"
   ]
  },
  {
   "cell_type": "code",
   "execution_count": 10,
   "metadata": {
    "ExecuteTime": {
     "end_time": "2021-03-02T08:10:26.396566Z",
     "start_time": "2021-03-02T08:10:26.385680Z"
    }
   },
   "outputs": [
    {
     "data": {
      "text/plain": [
       "Timestamp('2020-03-02 09:10:26.385680')"
      ]
     },
     "execution_count": 10,
     "metadata": {},
     "output_type": "execute_result"
    }
   ],
   "source": [
    "last_year = (pd.Timestamp.now() - pd.offsets.Day(365))\n",
    "last_year"
   ]
  },
  {
   "cell_type": "code",
   "execution_count": 11,
   "metadata": {
    "ExecuteTime": {
     "end_time": "2021-03-02T08:10:29.748033Z",
     "start_time": "2021-03-02T08:10:29.177882Z"
    }
   },
   "outputs": [],
   "source": [
    "btc = get_historic_price('btc', 'bitstamp', after=last_year)"
   ]
  },
  {
   "cell_type": "code",
   "execution_count": 12,
   "metadata": {
    "ExecuteTime": {
     "end_time": "2021-03-02T08:10:32.716289Z",
     "start_time": "2021-03-02T08:10:31.625593Z"
    }
   },
   "outputs": [],
   "source": [
    "eth = get_historic_price('eth', 'bitstamp', after=last_year)"
   ]
  },
  {
   "cell_type": "markdown",
   "metadata": {},
   "source": [
    "**Bitcoin:**"
   ]
  },
  {
   "cell_type": "code",
   "execution_count": 13,
   "metadata": {
    "ExecuteTime": {
     "end_time": "2021-03-02T08:10:35.362660Z",
     "start_time": "2021-03-02T08:10:35.345723Z"
    }
   },
   "outputs": [
    {
     "data": {
      "text/html": [
       "<div>\n",
       "<style scoped>\n",
       "    .dataframe tbody tr th:only-of-type {\n",
       "        vertical-align: middle;\n",
       "    }\n",
       "\n",
       "    .dataframe tbody tr th {\n",
       "        vertical-align: top;\n",
       "    }\n",
       "\n",
       "    .dataframe thead th {\n",
       "        text-align: right;\n",
       "    }\n",
       "</style>\n",
       "<table border=\"1\" class=\"dataframe\">\n",
       "  <thead>\n",
       "    <tr style=\"text-align: right;\">\n",
       "      <th></th>\n",
       "      <th>OpenPrice</th>\n",
       "      <th>HighPrice</th>\n",
       "      <th>LowPrice</th>\n",
       "      <th>ClosePrice</th>\n",
       "      <th>Volume</th>\n",
       "      <th>NA</th>\n",
       "    </tr>\n",
       "    <tr>\n",
       "      <th>CloseTime</th>\n",
       "      <th></th>\n",
       "      <th></th>\n",
       "      <th></th>\n",
       "      <th></th>\n",
       "      <th></th>\n",
       "      <th></th>\n",
       "    </tr>\n",
       "  </thead>\n",
       "  <tbody>\n",
       "    <tr>\n",
       "      <th>2020-06-25 10:00:00</th>\n",
       "      <td>9299.29</td>\n",
       "      <td>9308.22</td>\n",
       "      <td>9241.31</td>\n",
       "      <td>9242.70</td>\n",
       "      <td>342.641857</td>\n",
       "      <td>3.177220e+06</td>\n",
       "    </tr>\n",
       "    <tr>\n",
       "      <th>2020-06-25 11:00:00</th>\n",
       "      <td>9249.30</td>\n",
       "      <td>9273.49</td>\n",
       "      <td>9240.57</td>\n",
       "      <td>9258.89</td>\n",
       "      <td>318.080698</td>\n",
       "      <td>2.943491e+06</td>\n",
       "    </tr>\n",
       "    <tr>\n",
       "      <th>2020-06-25 12:00:00</th>\n",
       "      <td>9260.84</td>\n",
       "      <td>9288.89</td>\n",
       "      <td>9244.07</td>\n",
       "      <td>9251.14</td>\n",
       "      <td>140.735767</td>\n",
       "      <td>1.304255e+06</td>\n",
       "    </tr>\n",
       "    <tr>\n",
       "      <th>2020-06-25 13:00:00</th>\n",
       "      <td>9253.30</td>\n",
       "      <td>9257.71</td>\n",
       "      <td>9153.10</td>\n",
       "      <td>9173.00</td>\n",
       "      <td>690.200398</td>\n",
       "      <td>6.346930e+06</td>\n",
       "    </tr>\n",
       "    <tr>\n",
       "      <th>2020-06-25 14:00:00</th>\n",
       "      <td>9181.49</td>\n",
       "      <td>9232.67</td>\n",
       "      <td>9155.41</td>\n",
       "      <td>9190.49</td>\n",
       "      <td>278.421808</td>\n",
       "      <td>2.560293e+06</td>\n",
       "    </tr>\n",
       "  </tbody>\n",
       "</table>\n",
       "</div>"
      ],
      "text/plain": [
       "                     OpenPrice  HighPrice  LowPrice  ClosePrice      Volume  \\\n",
       "CloseTime                                                                     \n",
       "2020-06-25 10:00:00    9299.29    9308.22   9241.31     9242.70  342.641857   \n",
       "2020-06-25 11:00:00    9249.30    9273.49   9240.57     9258.89  318.080698   \n",
       "2020-06-25 12:00:00    9260.84    9288.89   9244.07     9251.14  140.735767   \n",
       "2020-06-25 13:00:00    9253.30    9257.71   9153.10     9173.00  690.200398   \n",
       "2020-06-25 14:00:00    9181.49    9232.67   9155.41     9190.49  278.421808   \n",
       "\n",
       "                               NA  \n",
       "CloseTime                          \n",
       "2020-06-25 10:00:00  3.177220e+06  \n",
       "2020-06-25 11:00:00  2.943491e+06  \n",
       "2020-06-25 12:00:00  1.304255e+06  \n",
       "2020-06-25 13:00:00  6.346930e+06  \n",
       "2020-06-25 14:00:00  2.560293e+06  "
      ]
     },
     "execution_count": 13,
     "metadata": {},
     "output_type": "execute_result"
    }
   ],
   "source": [
    "btc.head()"
   ]
  },
  {
   "cell_type": "code",
   "execution_count": 14,
   "metadata": {
    "ExecuteTime": {
     "end_time": "2021-03-02T08:10:51.365543Z",
     "start_time": "2021-03-02T08:10:51.106590Z"
    }
   },
   "outputs": [
    {
     "data": {
      "text/plain": [
       "<AxesSubplot:xlabel='CloseTime'>"
      ]
     },
     "execution_count": 14,
     "metadata": {},
     "output_type": "execute_result"
    },
    {
     "data": {
      "image/png": "[encoded data removed]",
      "text/plain": [
       "<Figure size 1080x504 with 1 Axes>"
      ]
     },
     "metadata": {
      "needs_background": "light"
     },
     "output_type": "display_data"
    }
   ],
   "source": [
    "btc['ClosePrice'].plot(figsize=(15, 7))"
   ]
  },
  {
   "cell_type": "markdown",
   "metadata": {},
   "source": [
    "**Ether:**"
   ]
  },
  {
   "cell_type": "code",
   "execution_count": 15,
   "metadata": {
    "ExecuteTime": {
     "end_time": "2021-03-02T08:10:51.584493Z",
     "start_time": "2021-03-02T08:10:51.564499Z"
    }
   },
   "outputs": [
    {
     "data": {
      "text/html": [
       "<div>\n",
       "<style scoped>\n",
       "    .dataframe tbody tr th:only-of-type {\n",
       "        vertical-align: middle;\n",
       "    }\n",
       "\n",
       "    .dataframe tbody tr th {\n",
       "        vertical-align: top;\n",
       "    }\n",
       "\n",
       "    .dataframe thead th {\n",
       "        text-align: right;\n",
       "    }\n",
       "</style>\n",
       "<table border=\"1\" class=\"dataframe\">\n",
       "  <thead>\n",
       "    <tr style=\"text-align: right;\">\n",
       "      <th></th>\n",
       "      <th>OpenPrice</th>\n",
       "      <th>HighPrice</th>\n",
       "      <th>LowPrice</th>\n",
       "      <th>ClosePrice</th>\n",
       "      <th>Volume</th>\n",
       "      <th>NA</th>\n",
       "    </tr>\n",
       "    <tr>\n",
       "      <th>CloseTime</th>\n",
       "      <th></th>\n",
       "      <th></th>\n",
       "      <th></th>\n",
       "      <th></th>\n",
       "      <th></th>\n",
       "      <th></th>\n",
       "    </tr>\n",
       "  </thead>\n",
       "  <tbody>\n",
       "    <tr>\n",
       "      <th>2020-06-25 09:00:00</th>\n",
       "      <td>231.23</td>\n",
       "      <td>234.91</td>\n",
       "      <td>231.23</td>\n",
       "      <td>234.21</td>\n",
       "      <td>3210.515261</td>\n",
       "      <td>7.494297e+05</td>\n",
       "    </tr>\n",
       "    <tr>\n",
       "      <th>2020-06-25 10:00:00</th>\n",
       "      <td>234.25</td>\n",
       "      <td>234.64</td>\n",
       "      <td>233.49</td>\n",
       "      <td>233.49</td>\n",
       "      <td>1557.700099</td>\n",
       "      <td>3.646263e+05</td>\n",
       "    </tr>\n",
       "    <tr>\n",
       "      <th>2020-06-25 11:00:00</th>\n",
       "      <td>233.58</td>\n",
       "      <td>234.35</td>\n",
       "      <td>233.39</td>\n",
       "      <td>233.62</td>\n",
       "      <td>6061.830004</td>\n",
       "      <td>1.416973e+06</td>\n",
       "    </tr>\n",
       "    <tr>\n",
       "      <th>2020-06-25 12:00:00</th>\n",
       "      <td>233.64</td>\n",
       "      <td>235.21</td>\n",
       "      <td>233.13</td>\n",
       "      <td>234.18</td>\n",
       "      <td>2019.090895</td>\n",
       "      <td>4.728092e+05</td>\n",
       "    </tr>\n",
       "    <tr>\n",
       "      <th>2020-06-25 13:00:00</th>\n",
       "      <td>234.21</td>\n",
       "      <td>234.31</td>\n",
       "      <td>231.40</td>\n",
       "      <td>231.80</td>\n",
       "      <td>2807.083430</td>\n",
       "      <td>6.520944e+05</td>\n",
       "    </tr>\n",
       "  </tbody>\n",
       "</table>\n",
       "</div>"
      ],
      "text/plain": [
       "                     OpenPrice  HighPrice  LowPrice  ClosePrice       Volume  \\\n",
       "CloseTime                                                                      \n",
       "2020-06-25 09:00:00     231.23     234.91    231.23      234.21  3210.515261   \n",
       "2020-06-25 10:00:00     234.25     234.64    233.49      233.49  1557.700099   \n",
       "2020-06-25 11:00:00     233.58     234.35    233.39      233.62  6061.830004   \n",
       "2020-06-25 12:00:00     233.64     235.21    233.13      234.18  2019.090895   \n",
       "2020-06-25 13:00:00     234.21     234.31    231.40      231.80  2807.083430   \n",
       "\n",
       "                               NA  \n",
       "CloseTime                          \n",
       "2020-06-25 09:00:00  7.494297e+05  \n",
       "2020-06-25 10:00:00  3.646263e+05  \n",
       "2020-06-25 11:00:00  1.416973e+06  \n",
       "2020-06-25 12:00:00  4.728092e+05  \n",
       "2020-06-25 13:00:00  6.520944e+05  "
      ]
     },
     "execution_count": 15,
     "metadata": {},
     "output_type": "execute_result"
    }
   ],
   "source": [
    "eth.head()"
   ]
  },
  {
   "cell_type": "code",
   "execution_count": 16,
   "metadata": {
    "ExecuteTime": {
     "end_time": "2021-03-02T08:10:53.705650Z",
     "start_time": "2021-03-02T08:10:53.471501Z"
    }
   },
   "outputs": [
    {
     "data": {
      "text/plain": [
       "<AxesSubplot:xlabel='CloseTime'>"
      ]
     },
     "execution_count": 16,
     "metadata": {},
     "output_type": "execute_result"
    },
    {
     "data": {
      "image/png": "[encoded data removed]",
      "text/plain": [
       "<Figure size 1080x504 with 1 Axes>"
      ]
     },
     "metadata": {
      "needs_background": "light"
     },
     "output_type": "display_data"
    }
   ],
   "source": [
    "eth['ClosePrice'].plot(figsize=(15, 7))"
   ]
  },
  {
   "cell_type": "markdown",
   "metadata": {},
   "source": [
    "As you can see, we're able to pull data from the internet with just a few lines, create a DataFrame and plot it all within Jupyter Lab."
   ]
  },
  {
   "cell_type": "code",
   "execution_count": 17,
   "metadata": {
    "ExecuteTime": {
     "end_time": "2021-03-02T08:11:03.895456Z",
     "start_time": "2021-03-02T08:11:03.870469Z"
    }
   },
   "outputs": [
    {
     "data": {
      "text/html": [
       "<div>\n",
       "<style scoped>\n",
       "    .dataframe tbody tr th:only-of-type {\n",
       "        vertical-align: middle;\n",
       "    }\n",
       "\n",
       "    .dataframe tbody tr th {\n",
       "        vertical-align: top;\n",
       "    }\n",
       "\n",
       "    .dataframe thead th {\n",
       "        text-align: right;\n",
       "    }\n",
       "</style>\n",
       "<table border=\"1\" class=\"dataframe\">\n",
       "  <thead>\n",
       "    <tr style=\"text-align: right;\">\n",
       "      <th></th>\n",
       "      <th>OpenPrice</th>\n",
       "      <th>HighPrice</th>\n",
       "      <th>LowPrice</th>\n",
       "      <th>ClosePrice</th>\n",
       "      <th>Volume</th>\n",
       "      <th>NA</th>\n",
       "    </tr>\n",
       "    <tr>\n",
       "      <th>CloseTime</th>\n",
       "      <th></th>\n",
       "      <th></th>\n",
       "      <th></th>\n",
       "      <th></th>\n",
       "      <th></th>\n",
       "      <th></th>\n",
       "    </tr>\n",
       "  </thead>\n",
       "  <tbody>\n",
       "    <tr>\n",
       "      <th>2020-06-25 09:00:00</th>\n",
       "      <td>231.23</td>\n",
       "      <td>234.91</td>\n",
       "      <td>231.23</td>\n",
       "      <td>234.21</td>\n",
       "      <td>3210.515261</td>\n",
       "      <td>7.494297e+05</td>\n",
       "    </tr>\n",
       "    <tr>\n",
       "      <th>2020-06-25 10:00:00</th>\n",
       "      <td>234.25</td>\n",
       "      <td>234.64</td>\n",
       "      <td>233.49</td>\n",
       "      <td>233.49</td>\n",
       "      <td>1557.700099</td>\n",
       "      <td>3.646263e+05</td>\n",
       "    </tr>\n",
       "    <tr>\n",
       "      <th>2020-06-25 11:00:00</th>\n",
       "      <td>233.58</td>\n",
       "      <td>234.35</td>\n",
       "      <td>233.39</td>\n",
       "      <td>233.62</td>\n",
       "      <td>6061.830004</td>\n",
       "      <td>1.416973e+06</td>\n",
       "    </tr>\n",
       "    <tr>\n",
       "      <th>2020-06-25 12:00:00</th>\n",
       "      <td>233.64</td>\n",
       "      <td>235.21</td>\n",
       "      <td>233.13</td>\n",
       "      <td>234.18</td>\n",
       "      <td>2019.090895</td>\n",
       "      <td>4.728092e+05</td>\n",
       "    </tr>\n",
       "    <tr>\n",
       "      <th>2020-06-25 13:00:00</th>\n",
       "      <td>234.21</td>\n",
       "      <td>234.31</td>\n",
       "      <td>231.40</td>\n",
       "      <td>231.80</td>\n",
       "      <td>2807.083430</td>\n",
       "      <td>6.520944e+05</td>\n",
       "    </tr>\n",
       "  </tbody>\n",
       "</table>\n",
       "</div>"
      ],
      "text/plain": [
       "                     OpenPrice  HighPrice  LowPrice  ClosePrice       Volume  \\\n",
       "CloseTime                                                                      \n",
       "2020-06-25 09:00:00     231.23     234.91    231.23      234.21  3210.515261   \n",
       "2020-06-25 10:00:00     234.25     234.64    233.49      233.49  1557.700099   \n",
       "2020-06-25 11:00:00     233.58     234.35    233.39      233.62  6061.830004   \n",
       "2020-06-25 12:00:00     233.64     235.21    233.13      234.18  2019.090895   \n",
       "2020-06-25 13:00:00     234.21     234.31    231.40      231.80  2807.083430   \n",
       "\n",
       "                               NA  \n",
       "CloseTime                          \n",
       "2020-06-25 09:00:00  7.494297e+05  \n",
       "2020-06-25 10:00:00  3.646263e+05  \n",
       "2020-06-25 11:00:00  1.416973e+06  \n",
       "2020-06-25 12:00:00  4.728092e+05  \n",
       "2020-06-25 13:00:00  6.520944e+05  "
      ]
     },
     "execution_count": 17,
     "metadata": {},
     "output_type": "execute_result"
    }
   ],
   "source": [
    "eth.head()"
   ]
  },
  {
   "cell_type": "markdown",
   "metadata": {},
   "source": [
    "![green-divider](https://user-images.githubusercontent.com/7065401/52071924-c003ad80-2562-11e9-8297-1c6595f8a7ff.png)\n",
    "\n",
    "### Bonus: Dynamic plots with Bokeh\n",
    "\n",
    "We've also included [Bokeh](https://bokeh.pydata.org/) as part of this main distribution. Bokeh is a plotting library that generates interactive plots, that can be manipulated right within your browser.\n",
    "\n",
    "We first need to import the libraries:"
   ]
  },
  {
   "cell_type": "code",
   "execution_count": 18,
   "metadata": {
    "ExecuteTime": {
     "end_time": "2021-03-02T08:11:06.174579Z",
     "start_time": "2021-03-02T08:11:05.828831Z"
    }
   },
   "outputs": [],
   "source": [
    "from bokeh.plotting import figure, output_file, show\n",
    "from bokeh.io import output_notebook"
   ]
  },
  {
   "cell_type": "code",
   "execution_count": 19,
   "metadata": {
    "ExecuteTime": {
     "end_time": "2021-03-02T08:11:06.256738Z",
     "start_time": "2021-03-02T08:11:06.236750Z"
    }
   },
   "outputs": [
    {
     "data": {
      "text/html": [
       "\n",
       "    <div class=\"bk-root\">\n",
       "        <a href=\"https://bokeh.org\" target=\"_blank\" class=\"bk-logo bk-logo-small bk-logo-notebook\"></a>\n",
       "        <span id=\"1001\">Loading BokehJS ...</span>\n",
       "    </div>"
      ]
     },
     "metadata": {},
     "output_type": "display_data"
    },
    {
     "data": {
      "application/javascript": [
       "\n",
       "(function(root) {\n",
       "  function now() {\n",
       "    return new Date();\n",
       "  }\n",
       "\n",
       "  var force = true;\n",
       "\n",
       "  if (typeof root._bokeh_onload_callbacks === \"undefined\" || force === true) {\n",
       "    root._bokeh_onload_callbacks = [];\n",
       "    root._bokeh_is_loading = undefined;\n",
       "  }\n",
       "\n",
       "  var JS_MIME_TYPE = 'application/javascript';\n",
       "  var HTML_MIME_TYPE = 'text/html';\n",
       "  var EXEC_MIME_TYPE = 'application/vnd.bokehjs_exec.v0+json';\n",
       "  var CLASS_NAME = 'output_bokeh rendered_html';\n",
       "\n",
       "  /**\n",
       "   * Render data to the DOM node\n",
       "   */\n",
       "  function render(props, node) {\n",
       "    var script = document.createElement(\"script\");\n",
       "    node.appendChild(script);\n",
       "  }\n",
       "\n",
       "  /**\n",
       "   * Handle when an output is cleared or removed\n",
       "   */\n",
       "  function handleClearOutput(event, handle) {\n",
       "    var cell = handle.cell;\n",
       "\n",
       "    var id = cell.output_area._bokeh_element_id;\n",
       "    var server_id = cell.output_area._bokeh_server_id;\n",
       "    // Clean up Bokeh references\n",
       "    if (id != null && id in Bokeh.index) {\n",
       "      Bokeh.index[id].model.document.clear();\n",
       "      delete Bokeh.index[id];\n",
       "    }\n",
       "\n",
       "    if (server_id !== undefined) {\n",
       "      // Clean up Bokeh references\n",
       "      var cmd = \"from bokeh.io.state import curstate; print(curstate().uuid_to_server['\" + server_id + \"'].get_sessions()[0].document.roots[0]._id)\";\n",
       "      cell.notebook.kernel.execute(cmd, {\n",
       "        iopub: {\n",
       "          output: function(msg) {\n",
       "            var id = msg.content.text.trim();\n",
       "            if (id in Bokeh.index) {\n",
       "              Bokeh.index[id].model.document.clear();\n",
       "              delete Bokeh.index[id];\n",
       "            }\n",
       "          }\n",
       "        }\n",
       "      });\n",
       "      // Destroy server and session\n",
       "      var cmd = \"import bokeh.io.notebook as ion; ion.destroy_server('\" + server_id + \"')\";\n",
       "      cell.notebook.kernel.execute(cmd);\n",
       "    }\n",
       "  }\n",
       "\n",
       "  /**\n",
       "   * Handle when a new output is added\n",
       "   */\n",
       "  function handleAddOutput(event, handle) {\n",
       "    var output_area = handle.output_area;\n",
       "    var output = handle.output;\n",
       "\n",
       "    // limit handleAddOutput to display_data with EXEC_MIME_TYPE content only\n",
       "    if ((output.output_type != \"display_data\") || (!output.data.hasOwnProperty(EXEC_MIME_TYPE))) {\n",
       "      return\n",
       "    }\n",
       "\n",
       "    var toinsert = output_area.element.find(\".\" + CLASS_NAME.split(' ')[0]);\n",
       "\n",
       "    if (output.metadata[EXEC_MIME_TYPE][\"id\"] !== undefined) {\n",
       "      toinsert[toinsert.length - 1].firstChild.textContent = output.data[JS_MIME_TYPE];\n",
       "      // store reference to embed id on output_area\n",
       "      output_area._bokeh_element_id = output.metadata[EXEC_MIME_TYPE][\"id\"];\n",
       "    }\n",
       "    if (output.metadata[EXEC_MIME_TYPE][\"server_id\"] !== undefined) {\n",
       "      var bk_div = document.createElement(\"div\");\n",
       "      bk_div.innerHTML = output.data[HTML_MIME_TYPE];\n",
       "      var script_attrs = bk_div.children[0].attributes;\n",
       "      for (var i = 0; i < script_attrs.length; i++) {\n",
       "        toinsert[toinsert.length - 1].firstChild.setAttribute(script_attrs[i].name, script_attrs[i].value);\n",
       "        toinsert[toinsert.length - 1].firstChild.textContent = bk_div.children[0].textContent\n",
       "      }\n",
       "      // store reference to server id on output_area\n",
       "      output_area._bokeh_server_id = output.metadata[EXEC_MIME_TYPE][\"server_id\"];\n",
       "    }\n",
       "  }\n",
       "\n",
       "  function register_renderer(events, OutputArea) {\n",
       "\n",
       "    function append_mime(data, metadata, element) {\n",
       "      // create a DOM node to render to\n",
       "      var toinsert = this.create_output_subarea(\n",
       "        metadata,\n",
       "        CLASS_NAME,\n",
       "        EXEC_MIME_TYPE\n",
       "      );\n",
       "      this.keyboard_manager.register_events(toinsert);\n",
       "      // Render to node\n",
       "      var props = {data: data, metadata: metadata[EXEC_MIME_TYPE]};\n",
       "      render(props, toinsert[toinsert.length - 1]);\n",
       "      element.append(toinsert);\n",
       "      return toinsert\n",
       "    }\n",
       "\n",
       "    /* Handle when an output is cleared or removed */\n",
       "    events.on('clear_output.CodeCell', handleClearOutput);\n",
       "    events.on('delete.Cell', handleClearOutput);\n",
       "\n",
       "    /* Handle when a new output is added */\n",
       "    events.on('output_added.OutputArea', handleAddOutput);\n",
       "\n",
       "    /**\n",
       "     * Register the mime type and append_mime function with output_area\n",
       "     */\n",
       "    OutputArea.prototype.register_mime_type(EXEC_MIME_TYPE, append_mime, {\n",
       "      /* Is output safe? */\n",
       "      safe: true,\n",
       "      /* Index of renderer in `output_area.display_order` */\n",
       "      index: 0\n",
       "    });\n",
       "  }\n",
       "\n",
       "  // register the mime type if in Jupyter Notebook environment and previously unregistered\n",
       "  if (root.Jupyter !== undefined) {\n",
       "    var events = require('base/js/events');\n",
       "    var OutputArea = require('notebook/js/outputarea').OutputArea;\n",
       "\n",
       "    if (OutputArea.prototype.mime_types().indexOf(EXEC_MIME_TYPE) == -1) {\n",
       "      register_renderer(events, OutputArea);\n",
       "    }\n",
       "  }\n",
       "\n",
       "  \n",
       "  if (typeof (root._bokeh_timeout) === \"undefined\" || force === true) {\n",
       "    root._bokeh_timeout = Date.now() + 5000;\n",
       "    root._bokeh_failed_load = false;\n",
       "  }\n",
       "\n",
       "  var NB_LOAD_WARNING = {'data': {'text/html':\n",
       "     \"<div style='background-color: #fdd'>\\n\"+\n",
       "     \"<p>\\n\"+\n",
       "     \"BokehJS does not appear to have successfully loaded. If loading BokehJS from CDN, this \\n\"+\n",
       "     \"may be due to a slow or bad network connection. Possible fixes:\\n\"+\n",
       "     \"</p>\\n\"+\n",
       "     \"<ul>\\n\"+\n",
       "     \"<li>re-rerun `output_notebook()` to attempt to load from CDN again, or</li>\\n\"+\n",
       "     \"<li>use INLINE resources instead, as so:</li>\\n\"+\n",
       "     \"</ul>\\n\"+\n",
       "     \"<code>\\n\"+\n",
       "     \"from bokeh.resources import INLINE\\n\"+\n",
       "     \"output_notebook(resources=INLINE)\\n\"+\n",
       "     \"</code>\\n\"+\n",
       "     \"</div>\"}};\n",
       "\n",
       "  function display_loaded() {\n",
       "    var el = document.getElementById(\"1001\");\n",
       "    if (el != null) {\n",
       "      el.textContent = \"BokehJS is loading...\";\n",
       "    }\n",
       "    if (root.Bokeh !== undefined) {\n",
       "      if (el != null) {\n",
       "        el.textContent = \"BokehJS \" + root.Bokeh.version + \" successfully loaded.\";\n",
       "      }\n",
       "    } else if (Date.now() < root._bokeh_timeout) {\n",
       "      setTimeout(display_loaded, 100)\n",
       "    }\n",
       "  }\n",
       "\n",
       "\n",
       "  function run_callbacks() {\n",
       "    try {\n",
       "      root._bokeh_onload_callbacks.forEach(function(callback) {\n",
       "        if (callback != null)\n",
       "          callback();\n",
       "      });\n",
       "    } finally {\n",
       "      delete root._bokeh_onload_callbacks\n",
       "    }\n",
       "    console.debug(\"Bokeh: all callbacks have finished\");\n",
       "  }\n",
       "\n",
       "  function load_libs(css_urls, js_urls, callback) {\n",
       "    if (css_urls == null) css_urls = [];\n",
       "    if (js_urls == null) js_urls = [];\n",
       "\n",
       "    root._bokeh_onload_callbacks.push(callback);\n",
       "    if (root._bokeh_is_loading > 0) {\n",
       "      console.debug(\"Bokeh: BokehJS is being loaded, scheduling callback at\", now());\n",
       "      return null;\n",
       "    }\n",
       "    if (js_urls == null || js_urls.length === 0) {\n",
       "      run_callbacks();\n",
       "      return null;\n",
       "    }\n",
       "    console.debug(\"Bokeh: BokehJS not loaded, scheduling load and callback at\", now());\n",
       "    root._bokeh_is_loading = css_urls.length + js_urls.length;\n",
       "\n",
       "    function on_load() {\n",
       "      root._bokeh_is_loading--;\n",
       "      if (root._bokeh_is_loading === 0) {\n",
       "        console.debug(\"Bokeh: all BokehJS libraries/stylesheets loaded\");\n",
       "        run_callbacks()\n",
       "      }\n",
       "    }\n",
       "\n",
       "    function on_error() {\n",
       "      console.error(\"failed to load \" + url);\n",
       "    }\n",
       "\n",
       "    for (var i = 0; i < css_urls.length; i++) {\n",
       "      var url = css_urls[i];\n",
       "      const element = document.createElement(\"link\");\n",
       "      element.onload = on_load;\n",
       "      element.onerror = on_error;\n",
       "      element.rel = \"stylesheet\";\n",
       "      element.type = \"text/css\";\n",
       "      element.href = url;\n",
       "      console.debug(\"Bokeh: injecting link tag for BokehJS stylesheet: \", url);\n",
       "      document.body.appendChild(element);\n",
       "    }\n",
       "\n",
       "    const hashes = {\"https://cdn.bokeh.org/bokeh/release/bokeh-2.2.3.min.js\": \"T2yuo9Oe71Cz/I4X9Ac5+gpEa5a8PpJCDlqKYO0CfAuEszu1JrXLl8YugMqYe3sM\", \"https://cdn.bokeh.org/bokeh/release/bokeh-widgets-2.2.3.min.js\": \"98GDGJ0kOMCUMUePhksaQ/GYgB3+NH9h996V88sh3aOiUNX3N+fLXAtry6xctSZ6\", \"https://cdn.bokeh.org/bokeh/release/bokeh-tables-2.2.3.min.js\": \"89bArO+nlbP3sgakeHjCo1JYxYR5wufVgA3IbUvDY+K7w4zyxJqssu7wVnfeKCq8\"};\n",
       "\n",
       "    for (var i = 0; i < js_urls.length; i++) {\n",
       "      var url = js_urls[i];\n",
       "      var element = document.createElement('script');\n",
       "      element.onload = on_load;\n",
       "      element.onerror = on_error;\n",
       "      element.async = false;\n",
       "      element.src = url;\n",
       "      if (url in hashes) {\n",
       "        element.crossOrigin = \"anonymous\";\n",
       "        element.integrity = \"sha384-\" + hashes[url];\n",
       "      }\n",
       "      console.debug(\"Bokeh: injecting script tag for BokehJS library: \", url);\n",
       "      document.head.appendChild(element);\n",
       "    }\n",
       "  };\n",
       "\n",
       "  function inject_raw_css(css) {\n",
       "    const element = document.createElement(\"style\");\n",
       "    element.appendChild(document.createTextNode(css));\n",
       "    document.body.appendChild(element);\n",
       "  }\n",
       "\n",
       "  \n",
       "  var js_urls = [\"https://cdn.bokeh.org/bokeh/release/bokeh-2.2.3.min.js\", \"https://cdn.bokeh.org/bokeh/release/bokeh-widgets-2.2.3.min.js\", \"https://cdn.bokeh.org/bokeh/release/bokeh-tables-2.2.3.min.js\"];\n",
       "  var css_urls = [];\n",
       "  \n",
       "\n",
       "  var inline_js = [\n",
       "    function(Bokeh) {\n",
       "      Bokeh.set_log_level(\"info\");\n",
       "    },\n",
       "    function(Bokeh) {\n",
       "    \n",
       "    \n",
       "    }\n",
       "  ];\n",
       "\n",
       "  function run_inline_js() {\n",
       "    \n",
       "    if (root.Bokeh !== undefined || force === true) {\n",
       "      \n",
       "    for (var i = 0; i < inline_js.length; i++) {\n",
       "      inline_js[i].call(root, root.Bokeh);\n",
       "    }\n",
       "    if (force === true) {\n",
       "        display_loaded();\n",
       "      }} else if (Date.now() < root._bokeh_timeout) {\n",
       "      setTimeout(run_inline_js, 100);\n",
       "    } else if (!root._bokeh_failed_load) {\n",
       "      console.log(\"Bokeh: BokehJS failed to load within specified timeout.\");\n",
       "      root._bokeh_failed_load = true;\n",
       "    } else if (force !== true) {\n",
       "      var cell = $(document.getElementById(\"1001\")).parents('.cell').data().cell;\n",
       "      cell.output_area.append_execute_result(NB_LOAD_WARNING)\n",
       "    }\n",
       "\n",
       "  }\n",
       "\n",
       "  if (root._bokeh_is_loading === 0) {\n",
       "    console.debug(\"Bokeh: BokehJS loaded, going straight to plotting\");\n",
       "    run_inline_js();\n",
       "  } else {\n",
       "    load_libs(css_urls, js_urls, function() {\n",
       "      console.debug(\"Bokeh: BokehJS plotting callback run at\", now());\n",
       "      run_inline_js();\n",
       "    });\n",
       "  }\n",
       "}(window));"
      ],
      "application/vnd.bokehjs_load.v0+json": "\n(function(root) {\n  function now() {\n    return new Date();\n  }\n\n  var force = true;\n\n  if (typeof root._bokeh_onload_callbacks === \"undefined\" || force === true) {\n    root._bokeh_onload_callbacks = [];\n    root._bokeh_is_loading = undefined;\n  }\n\n  \n\n  \n  if (typeof (root._bokeh_timeout) === \"undefined\" || force === true) {\n    root._bokeh_timeout = Date.now() + 5000;\n    root._bokeh_failed_load = false;\n  }\n\n  var NB_LOAD_WARNING = {'data': {'text/html':\n     \"<div style='background-color: #fdd'>\\n\"+\n     \"<p>\\n\"+\n     \"BokehJS does not appear to have successfully loaded. If loading BokehJS from CDN, this \\n\"+\n     \"may be due to a slow or bad network connection. Possible fixes:\\n\"+\n     \"</p>\\n\"+\n     \"<ul>\\n\"+\n     \"<li>re-rerun `output_notebook()` to attempt to load from CDN again, or</li>\\n\"+\n     \"<li>use INLINE resources instead, as so:</li>\\n\"+\n     \"</ul>\\n\"+\n     \"<code>\\n\"+\n     \"from bokeh.resources import INLINE\\n\"+\n     \"output_notebook(resources=INLINE)\\n\"+\n     \"</code>\\n\"+\n     \"</div>\"}};\n\n  function display_loaded() {\n    var el = document.getElementById(\"1001\");\n    if (el != null) {\n      el.textContent = \"BokehJS is loading...\";\n    }\n    if (root.Bokeh !== undefined) {\n      if (el != null) {\n        el.textContent = \"BokehJS \" + root.Bokeh.version + \" successfully loaded.\";\n      }\n    } else if (Date.now() < root._bokeh_timeout) {\n      setTimeout(display_loaded, 100)\n    }\n  }\n\n\n  function run_callbacks() {\n    try {\n      root._bokeh_onload_callbacks.forEach(function(callback) {\n        if (callback != null)\n          callback();\n      });\n    } finally {\n      delete root._bokeh_onload_callbacks\n    }\n    console.debug(\"Bokeh: all callbacks have finished\");\n  }\n\n  function load_libs(css_urls, js_urls, callback) {\n    if (css_urls == null) css_urls = [];\n    if (js_urls == null) js_urls = [];\n\n    root._bokeh_onload_callbacks.push(callback);\n    if (root._bokeh_is_loading > 0) {\n      console.debug(\"Bokeh: BokehJS is being loaded, scheduling callback at\", now());\n      return null;\n    }\n    if (js_urls == null || js_urls.length === 0) {\n      run_callbacks();\n      return null;\n    }\n    console.debug(\"Bokeh: BokehJS not loaded, scheduling load and callback at\", now());\n    root._bokeh_is_loading = css_urls.length + js_urls.length;\n\n    function on_load() {\n      root._bokeh_is_loading--;\n      if (root._bokeh_is_loading === 0) {\n        console.debug(\"Bokeh: all BokehJS libraries/stylesheets loaded\");\n        run_callbacks()\n      }\n    }\n\n    function on_error() {\n      console.error(\"failed to load \" + url);\n    }\n\n    for (var i = 0; i < css_urls.length; i++) {\n      var url = css_urls[i];\n      const element = document.createElement(\"link\");\n      element.onload = on_load;\n      element.onerror = on_error;\n      element.rel = \"stylesheet\";\n      element.type = \"text/css\";\n      element.href = url;\n      console.debug(\"Bokeh: injecting link tag for BokehJS stylesheet: \", url);\n      document.body.appendChild(element);\n    }\n\n    const hashes = {\"https://cdn.bokeh.org/bokeh/release/bokeh-2.2.3.min.js\": \"T2yuo9Oe71Cz/I4X9Ac5+gpEa5a8PpJCDlqKYO0CfAuEszu1JrXLl8YugMqYe3sM\", \"https://cdn.bokeh.org/bokeh/release/bokeh-widgets-2.2.3.min.js\": \"98GDGJ0kOMCUMUePhksaQ/GYgB3+NH9h996V88sh3aOiUNX3N+fLXAtry6xctSZ6\", \"https://cdn.bokeh.org/bokeh/release/bokeh-tables-2.2.3.min.js\": \"89bArO+nlbP3sgakeHjCo1JYxYR5wufVgA3IbUvDY+K7w4zyxJqssu7wVnfeKCq8\"};\n\n    for (var i = 0; i < js_urls.length; i++) {\n      var url = js_urls[i];\n      var element = document.createElement('script');\n      element.onload = on_load;\n      element.onerror = on_error;\n      element.async = false;\n      element.src = url;\n      if (url in hashes) {\n        element.crossOrigin = \"anonymous\";\n        element.integrity = \"sha384-\" + hashes[url];\n      }\n      console.debug(\"Bokeh: injecting script tag for BokehJS library: \", url);\n      document.head.appendChild(element);\n    }\n  };\n\n  function inject_raw_css(css) {\n    const element = document.createElement(\"style\");\n    element.appendChild(document.createTextNode(css));\n    document.body.appendChild(element);\n  }\n\n  \n  var js_urls = [\"https://cdn.bokeh.org/bokeh/release/bokeh-2.2.3.min.js\", \"https://cdn.bokeh.org/bokeh/release/bokeh-widgets-2.2.3.min.js\", \"https://cdn.bokeh.org/bokeh/release/bokeh-tables-2.2.3.min.js\"];\n  var css_urls = [];\n  \n\n  var inline_js = [\n    function(Bokeh) {\n      Bokeh.set_log_level(\"info\");\n    },\n    function(Bokeh) {\n    \n    \n    }\n  ];\n\n  function run_inline_js() {\n    \n    if (root.Bokeh !== undefined || force === true) {\n      \n    for (var i = 0; i < inline_js.length; i++) {\n      inline_js[i].call(root, root.Bokeh);\n    }\n    if (force === true) {\n        display_loaded();\n      }} else if (Date.now() < root._bokeh_timeout) {\n      setTimeout(run_inline_js, 100);\n    } else if (!root._bokeh_failed_load) {\n      console.log(\"Bokeh: BokehJS failed to load within specified timeout.\");\n      root._bokeh_failed_load = true;\n    } else if (force !== true) {\n      var cell = $(document.getElementById(\"1001\")).parents('.cell').data().cell;\n      cell.output_area.append_execute_result(NB_LOAD_WARNING)\n    }\n\n  }\n\n  if (root._bokeh_is_loading === 0) {\n    console.debug(\"Bokeh: BokehJS loaded, going straight to plotting\");\n    run_inline_js();\n  } else {\n    load_libs(css_urls, js_urls, function() {\n      console.debug(\"Bokeh: BokehJS plotting callback run at\", now());\n      run_inline_js();\n    });\n  }\n}(window));"
     },
     "metadata": {},
     "output_type": "display_data"
    }
   ],
   "source": [
    "output_notebook()"
   ]
  },
  {
   "cell_type": "markdown",
   "metadata": {},
   "source": [
    "And we generate the plot:"
   ]
  },
  {
   "cell_type": "code",
   "execution_count": 20,
   "metadata": {
    "ExecuteTime": {
     "end_time": "2021-03-02T08:11:09.039903Z",
     "start_time": "2021-03-02T08:11:08.960602Z"
    }
   },
   "outputs": [
    {
     "name": "stderr",
     "output_type": "stream",
     "text": [
      "BokehDeprecationWarning: 'legend' keyword is deprecated, use explicit 'legend_label', 'legend_field', or 'legend_group' keywords instead\n"
     ]
    },
    {
     "data": {
      "text/html": [
       "\n",
       "\n",
       "\n",
       "\n",
       "\n",
       "\n",
       "  <div class=\"bk-root\" id=\"fb3c0a5d-3332-4d80-9af3-51b5af60000e\" data-root-id=\"1002\"></div>\n"
      ]
     },
     "metadata": {},
     "output_type": "display_data"
    },
    {
     "data": {
      "application/javascript": [
       "(function(root) {\n",
       "  function embed_document(root) {\n",
       "    \n",
       "  var docs_json = {\"2032ca56-9e30-4b93-a263-d4189b7789c6\":{\"roots\":{\"references\":[{\"attributes\":{\"below\":[{\"id\":\"1013\"}],\"center\":[{\"id\":\"1016\"},{\"id\":\"1020\"},{\"id\":\"1060\"}],\"left\":[{\"id\":\"1017\"}],\"plot_width\":800,\"renderers\":[{\"id\":\"1038\"}],\"title\":{\"id\":\"1003\"},\"toolbar\":{\"id\":\"1028\"},\"x_range\":{\"id\":\"1005\"},\"x_scale\":{\"id\":\"1009\"},\"y_range\":{\"id\":\"1007\"},\"y_scale\":{\"id\":\"1011\"}},\"id\":\"1002\",\"subtype\":\"Figure\",\"type\":\"Plot\"},{\"attributes\":{\"axis_label\":\"Price\",\"formatter\":{\"id\":\"1044\"},\"ticker\":{\"id\":\"1018\"}},\"id\":\"1017\",\"type\":\"LinearAxis\"},{\"attributes\":{},\"id\":\"1018\",\"type\":\"BasicTicker\"},{\"attributes\":{\"mantissas\":[1,2,5],\"max_interval\":500.0,\"num_minor_ticks\":0},\"id\":\"1045\",\"type\":\"AdaptiveTicker\"},{\"attributes\":{\"axis\":{\"id\":\"1017\"},\"dimension\":1,\"grid_line_alpha\":0.3,\"ticker\":null},\"id\":\"1020\",\"type\":\"Grid\"},{\"attributes\":{\"base\":60,\"mantissas\":[1,2,5,10,15,20,30],\"max_interval\":1800000.0,\"min_interval\":1000.0,\"num_minor_ticks\":0},\"id\":\"1046\",\"type\":\"AdaptiveTicker\"},{\"attributes\":{},\"id\":\"1026\",\"type\":\"HelpTool\"},{\"attributes\":{\"days\":[1,2,3,4,5,6,7,8,9,10,11,12,13,14,15,16,17,18,19,20,21,22,23,24,25,26,27,28,29,30,31]},\"id\":\"1048\",\"type\":\"DaysTicker\"},{\"attributes\":{\"base\":24,\"mantissas\":[1,2,4,6,8,12],\"max_interval\":43200000.0,\"min_interval\":3600000.0,\"num_minor_ticks\":0},\"id\":\"1047\",\"type\":\"AdaptiveTicker\"},{\"attributes\":{\"months\":[0,1,2,3,4,5,6,7,8,9,10,11]},\"id\":\"1052\",\"type\":\"MonthsTicker\"},{\"attributes\":{\"active_drag\":\"auto\",\"active_inspect\":\"auto\",\"active_multi\":null,\"active_scroll\":\"auto\",\"active_tap\":\"auto\",\"tools\":[{\"id\":\"1021\"},{\"id\":\"1022\"},{\"id\":\"1023\"},{\"id\":\"1024\"},{\"id\":\"1025\"},{\"id\":\"1026\"}]},\"id\":\"1028\",\"type\":\"Toolbar\"},{\"attributes\":{},\"id\":\"1022\",\"type\":\"WheelZoomTool\"},{\"attributes\":{\"months\":[0,2,4,6,8,10]},\"id\":\"1053\",\"type\":\"MonthsTicker\"},{\"attributes\":{},\"id\":\"1021\",\"type\":\"PanTool\"},{\"attributes\":{\"days\":[1,4,7,10,13,16,19,22,25,28]},\"id\":\"1049\",\"type\":\"DaysTicker\"},{\"attributes\":{\"overlay\":{\"id\":\"1027\"}},\"id\":\"1023\",\"type\":\"BoxZoomTool\"},{\"attributes\":{\"days\":[1,15]},\"id\":\"1051\",\"type\":\"DaysTicker\"},{\"attributes\":{},\"id\":\"1024\",\"type\":\"SaveTool\"},{\"attributes\":{\"text\":\"Crypto Prices\"},\"id\":\"1003\",\"type\":\"Title\"},{\"attributes\":{\"source\":{\"id\":\"1035\"}},\"id\":\"1039\",\"type\":\"CDSView\"},{\"attributes\":{},\"id\":\"1025\",\"type\":\"ResetTool\"},{\"attributes\":{\"days\":[1,8,15,22]},\"id\":\"1050\",\"type\":\"DaysTicker\"},{\"attributes\":{\"months\":[0,6]},\"id\":\"1055\",\"type\":\"MonthsTicker\"},{\"attributes\":{},\"id\":\"1056\",\"type\":\"YearsTicker\"},{\"attributes\":{\"data\":{\"x\":{\"__ndarray__\":\"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\",\"dtype\":\"float64\",\"order\":\"little\",\"shape\":[6000]},\"y\":{\"__ndarray__\":\"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\",\"dtype\":\"float64\",\"order\":\"little\",\"shape\":[6000]}},\"selected\":{\"id\":\"1057\"},\"selection_policy\":{\"id\":\"1058\"}},\"id\":\"1035\",\"type\":\"ColumnDataSource\"},{\"attributes\":{\"axis\":{\"id\":\"1013\"},\"grid_line_alpha\":0.3,\"ticker\":null},\"id\":\"1016\",\"type\":\"Grid\"},{\"attributes\":{},\"id\":\"1007\",\"type\":\"DataRange1d\"},{\"attributes\":{\"data_source\":{\"id\":\"1035\"},\"glyph\":{\"id\":\"1036\"},\"hover_glyph\":null,\"muted_glyph\":null,\"nonselection_glyph\":{\"id\":\"1037\"},\"selection_glyph\":null,\"view\":{\"id\":\"1039\"}},\"id\":\"1038\",\"type\":\"GlyphRenderer\"},{\"attributes\":{\"months\":[0,4,8]},\"id\":\"1054\",\"type\":\"MonthsTicker\"},{\"attributes\":{\"line_color\":\"#f2a900\",\"x\":{\"field\":\"x\"},\"y\":{\"field\":\"y\"}},\"id\":\"1036\",\"type\":\"Line\"},{\"attributes\":{\"axis_label\":\"Date\",\"formatter\":{\"id\":\"1042\"},\"ticker\":{\"id\":\"1014\"}},\"id\":\"1013\",\"type\":\"DatetimeAxis\"},{\"attributes\":{\"label\":{\"value\":\"Bitcoin\"},\"renderers\":[{\"id\":\"1038\"}]},\"id\":\"1061\",\"type\":\"LegendItem\"},{\"attributes\":{\"items\":[{\"id\":\"1061\"}],\"location\":\"top_left\"},\"id\":\"1060\",\"type\":\"Legend\"},{\"attributes\":{\"line_alpha\":0.1,\"line_color\":\"#f2a900\",\"x\":{\"field\":\"x\"},\"y\":{\"field\":\"y\"}},\"id\":\"1037\",\"type\":\"Line\"},{\"attributes\":{},\"id\":\"1057\",\"type\":\"Selection\"},{\"attributes\":{},\"id\":\"1058\",\"type\":\"UnionRenderers\"},{\"attributes\":{},\"id\":\"1042\",\"type\":\"DatetimeTickFormatter\"},{\"attributes\":{\"bottom_units\":\"screen\",\"fill_alpha\":0.5,\"fill_color\":\"lightgrey\",\"left_units\":\"screen\",\"level\":\"overlay\",\"line_alpha\":1.0,\"line_color\":\"black\",\"line_dash\":[4,4],\"line_width\":2,\"right_units\":\"screen\",\"top_units\":\"screen\"},\"id\":\"1027\",\"type\":\"BoxAnnotation\"},{\"attributes\":{},\"id\":\"1011\",\"type\":\"LinearScale\"},{\"attributes\":{},\"id\":\"1009\",\"type\":\"LinearScale\"},{\"attributes\":{},\"id\":\"1044\",\"type\":\"BasicTickFormatter\"},{\"attributes\":{},\"id\":\"1005\",\"type\":\"DataRange1d\"},{\"attributes\":{\"num_minor_ticks\":5,\"tickers\":[{\"id\":\"1045\"},{\"id\":\"1046\"},{\"id\":\"1047\"},{\"id\":\"1048\"},{\"id\":\"1049\"},{\"id\":\"1050\"},{\"id\":\"1051\"},{\"id\":\"1052\"},{\"id\":\"1053\"},{\"id\":\"1054\"},{\"id\":\"1055\"},{\"id\":\"1056\"}]},\"id\":\"1014\",\"type\":\"DatetimeTicker\"}],\"root_ids\":[\"1002\"]},\"title\":\"Bokeh Application\",\"version\":\"2.2.3\"}};\n",
       "  var render_items = [{\"docid\":\"2032ca56-9e30-4b93-a263-d4189b7789c6\",\"root_ids\":[\"1002\"],\"roots\":{\"1002\":\"fb3c0a5d-3332-4d80-9af3-51b5af60000e\"}}];\n",
       "  root.Bokeh.embed.embed_items_notebook(docs_json, render_items);\n",
       "\n",
       "  }\n",
       "  if (root.Bokeh !== undefined) {\n",
       "    embed_document(root);\n",
       "  } else {\n",
       "    var attempts = 0;\n",
       "    var timer = setInterval(function(root) {\n",
       "      if (root.Bokeh !== undefined) {\n",
       "        clearInterval(timer);\n",
       "        embed_document(root);\n",
       "      } else {\n",
       "        attempts++;\n",
       "        if (attempts > 100) {\n",
       "          clearInterval(timer);\n",
       "          console.log(\"Bokeh: ERROR: Unable to run BokehJS code because BokehJS library is missing\");\n",
       "        }\n",
       "      }\n",
       "    }, 10, root)\n",
       "  }\n",
       "})(window);"
      ],
      "application/vnd.bokehjs_exec.v0+json": ""
     },
     "metadata": {
      "application/vnd.bokehjs_exec.v0+json": {
       "id": "1002"
      }
     },
     "output_type": "display_data"
    }
   ],
   "source": [
    "p1 = figure(x_axis_type=\"datetime\", title=\"Crypto Prices\", width=800)\n",
    "p1.grid.grid_line_alpha=0.3\n",
    "p1.xaxis.axis_label = 'Date'\n",
    "p1.yaxis.axis_label = 'Price'\n",
    "\n",
    "p1.line(btc.index, btc['ClosePrice'], color='#f2a900', legend='Bitcoin')\n",
    "#p1.line(eth.index, eth['ClosePrice'], color='#A6CEE3', legend='Ether')\n",
    "\n",
    "p1.legend.location = \"top_left\"\n",
    "\n",
    "show(p1)"
   ]
  },
  {
   "cell_type": "markdown",
   "metadata": {},
   "source": [
    "☝️ as you can see, the plot is interactive. Try zomming in and out, and scrolling in the plot."
   ]
  },
  {
   "cell_type": "markdown",
   "metadata": {},
   "source": [
    "![green-divider](https://user-images.githubusercontent.com/7065401/52071924-c003ad80-2562-11e9-8297-1c6595f8a7ff.png)\n",
    "\n",
    "## Part 4: Exporting to Excel\n",
    "\n",
    "We're now ready to generate an Excel file from the downloaded prices. Working with Excel and other formats (like CSV or JSON) is extremely simple in Jupyter Lab (thanks to pandas and Python). Our first step will be to create an \"Excel writer\", a component from the `pandas` package:"
   ]
  },
  {
   "cell_type": "code",
   "execution_count": null,
   "metadata": {},
   "outputs": [],
   "source": [
    "writer = pd.ExcelWriter('cryptos.xlsx')"
   ]
  },
  {
   "cell_type": "markdown",
   "metadata": {},
   "source": [
    "We'll now write both our Bitcoin and Ether data as separate sheets:"
   ]
  },
  {
   "cell_type": "code",
   "execution_count": null,
   "metadata": {},
   "outputs": [],
   "source": [
    "btc.to_excel(writer, sheet_name='Bitcoin')"
   ]
  },
  {
   "cell_type": "code",
   "execution_count": null,
   "metadata": {},
   "outputs": [],
   "source": [
    "eth.to_excel(writer, sheet_name='Ether')"
   ]
  },
  {
   "cell_type": "markdown",
   "metadata": {},
   "source": [
    "And finally, we can save the file:"
   ]
  },
  {
   "cell_type": "code",
   "execution_count": null,
   "metadata": {},
   "outputs": [],
   "source": [
    "writer.save()"
   ]
  },
  {
   "cell_type": "markdown",
   "metadata": {},
   "source": [
    "Once you've saved the file, you should see it in the left side navigation bar:\n",
    "\n",
    "![Excel file](images/_5.png)"
   ]
  },
  {
   "cell_type": "markdown",
   "metadata": {},
   "source": [
    "## Final words and how to get help\n",
    "\n",
    "That's it! It's your time now to start working and playing around with jupyter lab and Notebooks.ai. This product is in an early stage, so we'd love to receive all your feedback and suggestions. If you need help or ideas for us to implement, create an issue in the following replo: [https://github.com/notebooks-ai/notebooks-help](https://github.com/notebooks-ai/notebooks-help). It'll be highly appreciated!"
   ]
  },
  {
   "cell_type": "markdown",
   "metadata": {},
   "source": [
    "![purple-divider](https://user-images.githubusercontent.com/7065401/52071927-c1cd7100-2562-11e9-908a-dde91ba14e59.png)"
   ]
  }
 ],
 "metadata": {
  "kernelspec": {
   "display_name": "Python 3",
   "language": "python",
   "name": "python3"
  },
  "language_info": {
   "codemirror_mode": {
    "name": "ipython",
    "version": 3
   },
   "file_extension": ".py",
   "mimetype": "text/x-python",
   "name": "python",
   "nbconvert_exporter": "python",
   "pygments_lexer": "ipython3",
   "version": "3.8.5"
  }
 },
 "nbformat": 4,
 "nbformat_minor": 2
}
